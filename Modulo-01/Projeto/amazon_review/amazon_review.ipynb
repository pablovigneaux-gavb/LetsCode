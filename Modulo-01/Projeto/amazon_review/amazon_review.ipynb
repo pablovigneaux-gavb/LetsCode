{
 "cells": [
  {
   "cell_type": "markdown",
   "id": "0cbd306f",
   "metadata": {},
   "source": [
    "<img src = \"https://images2.imgbox.com/a5/72/7ZbDUHlf_o.jpg\" width=\"200\">"
   ]
  },
  {
   "cell_type": "markdown",
   "id": "66cf447e",
   "metadata": {},
   "source": [
    "### Perguntas:\n",
    "---\n",
    "- Quais são os cinco produtos com maior quantidade de reviews?\n",
    "- Quais são os cinco produtos com maior rating médio?\n",
    "- Assuma que qualquer review com rating maior que 3 é positivo. (3.5, 4, 4.5, 5.0). Qual percentual de reviews positivos para os cinco produtos com maior quantidade de reviews?\n",
    "- De acordo com a pergunta acima, qual percentual de reviews positivos para os cinco produtos com maior rating médio?\n",
    "- Quanto menos reviews, mais fácil ter um percentual maior de reviews positivos. Para comparar melhor os melhores produtos, vamos usar uma regra: qual seria o percentual de reviews positivos de todos os produtos, se eu adicionasse 1 review positivo e 1 review negativo? (fonte: https://www.youtube.com/watch?v=8idr1WZ1A7Q)\n",
    "\n",
    "**Fonte dos dados:** https://jmcauley.ucsd.edu/data/amazon/"
   ]
  },
  {
   "cell_type": "markdown",
   "id": "5c4ff6dd",
   "metadata": {},
   "source": [
    "**Explicando melhor a última pergunta:**\n",
    "\n",
    "Imagine que um produto tenha 50 reviews, 37 positivos. Então, vamos adicionar 1 positivo e 1 negativo, ficamos com 38 positivos e 24 negativos. Assim, o percentual de positivos é 38/52 = 73%.\n",
    "\n",
    "---\n",
    "\n",
    "\n",
    "- Qual o preço médio de todos os produtos?\n",
    "- Qual o preço médio de produtos da Philips, da 3M e da Duracell?\n",
    "- Para cada produto da Philips, da 3M e da Duracell, calcule o percentual de reviews positivos (sem usar o conceito acima).\n",
    "- Qual o percentual de positivos médio para cada uma dessas marcas? \n",
    "\n",
    "---"
   ]
  },
  {
   "cell_type": "code",
   "execution_count": 94,
   "id": "cdb663f5",
   "metadata": {},
   "outputs": [],
   "source": [
    "# Importando bibliotecas\n",
    "import pandas as pd\n",
    "import numpy as np"
   ]
  },
  {
   "cell_type": "code",
   "execution_count": 95,
   "id": "1668feac",
   "metadata": {},
   "outputs": [],
   "source": [
    "def impressao_relatorio(percentuais):\n",
    "    for item in percentuais:\n",
    "        print(f'item: {item[\"item\"]} - {item[\"negativos\"]:.2f}% reviews negativos e {item[\"positivos\"]:.2f}% reviews positivos.')\n",
    "        \n",
    "def calc_pos_neg(lst, reviews_df):\n",
    "    lista_cont = []\n",
    "    for item in lst:\n",
    "        dicionario_item = {}\n",
    "        subconjunto_df = reviews_df[reviews_df['asin'] == item]\n",
    "        sum_neg = len([registro for registro in subconjunto_df['rating'] if registro <= 3])\n",
    "        sum_pos = len([registro for registro in subconjunto_df['rating'] if registro > 3])\n",
    "        dicionario_item['item'] = item\n",
    "        dicionario_item['negativos'] = sum_neg /(sum_pos+sum_neg) *100\n",
    "        dicionario_item['positivos'] = sum_pos /(sum_pos+sum_neg) *100\n",
    "        lista_cont.append(dicionario_item)\n",
    "    return lista_cont \n",
    "\n",
    "def lst_pos_neg(lst, products_reviews):\n",
    "    lista_cont = []\n",
    "    for item in lst:\n",
    "        dicionario_marca = {}\n",
    "        subconjunto_df = products_reviews[products_reviews['brand'] == item]\n",
    "        sum_neg = len([registro for registro in subconjunto_df['rating'] if registro <= 3])\n",
    "        sum_pos = len([registro for registro in subconjunto_df['rating'] if registro > 3])\n",
    "        dicionario_marca['item'] = item\n",
    "        dicionario_marca['negativos'] = sum_neg /(sum_pos+sum_neg) *100\n",
    "        dicionario_marca['positivos'] = sum_pos /(sum_pos+sum_neg) *100\n",
    "        lista_cont.append(dicionario_marca)\n",
    "    return lista_cont "
   ]
  },
  {
   "cell_type": "code",
   "execution_count": 96,
   "id": "a073d73e",
   "metadata": {},
   "outputs": [],
   "source": [
    "# Carregando dados \n",
    "products_df = pd.read_json('data/metadata_products.json', lines=True)\n",
    "reviews_df  = pd.read_json('data/reviews_amazon.json')"
   ]
  },
  {
   "cell_type": "code",
   "execution_count": 97,
   "id": "93637fc1",
   "metadata": {},
   "outputs": [
    {
     "data": {
      "text/html": [
       "<div>\n",
       "<style scoped>\n",
       "    .dataframe tbody tr th:only-of-type {\n",
       "        vertical-align: middle;\n",
       "    }\n",
       "\n",
       "    .dataframe tbody tr th {\n",
       "        vertical-align: top;\n",
       "    }\n",
       "\n",
       "    .dataframe thead th {\n",
       "        text-align: right;\n",
       "    }\n",
       "</style>\n",
       "<table border=\"1\" class=\"dataframe\">\n",
       "  <thead>\n",
       "    <tr style=\"text-align: right;\">\n",
       "      <th></th>\n",
       "      <th>asin</th>\n",
       "      <th>title</th>\n",
       "      <th>price</th>\n",
       "      <th>brand</th>\n",
       "    </tr>\n",
       "  </thead>\n",
       "  <tbody>\n",
       "    <tr>\n",
       "      <th>0</th>\n",
       "      <td>0736789928</td>\n",
       "      <td>Zaner-Bloser Classic Handwriting Pen Single Un...</td>\n",
       "      <td>3.49</td>\n",
       "      <td>Zaner-Bloser</td>\n",
       "    </tr>\n",
       "    <tr>\n",
       "      <th>1</th>\n",
       "      <td>0767196813</td>\n",
       "      <td>Graphique - Bunco Purse Notes, 3 x 4&amp;quot;, Mu...</td>\n",
       "      <td>3.95</td>\n",
       "      <td>None</td>\n",
       "    </tr>\n",
       "    <tr>\n",
       "      <th>2</th>\n",
       "      <td>1423915380</td>\n",
       "      <td>Renata Battery 370 Sr920W Silver 1.55V Swiss Made</td>\n",
       "      <td>2.85</td>\n",
       "      <td>Renata</td>\n",
       "    </tr>\n",
       "    <tr>\n",
       "      <th>3</th>\n",
       "      <td>1424333083</td>\n",
       "      <td>Kinesiotaping in Pediatrics: Fundamentals and ...</td>\n",
       "      <td>48.90</td>\n",
       "      <td>Kinesio</td>\n",
       "    </tr>\n",
       "    <tr>\n",
       "      <th>4</th>\n",
       "      <td>1472607341</td>\n",
       "      <td>Filofax Personal Original Patent Purple</td>\n",
       "      <td>NaN</td>\n",
       "      <td>None</td>\n",
       "    </tr>\n",
       "  </tbody>\n",
       "</table>\n",
       "</div>"
      ],
      "text/plain": [
       "         asin                                              title  price  \\\n",
       "0  0736789928  Zaner-Bloser Classic Handwriting Pen Single Un...   3.49   \n",
       "1  0767196813  Graphique - Bunco Purse Notes, 3 x 4&quot;, Mu...   3.95   \n",
       "2  1423915380  Renata Battery 370 Sr920W Silver 1.55V Swiss Made   2.85   \n",
       "3  1424333083  Kinesiotaping in Pediatrics: Fundamentals and ...  48.90   \n",
       "4  1472607341            Filofax Personal Original Patent Purple    NaN   \n",
       "\n",
       "          brand  \n",
       "0  Zaner-Bloser  \n",
       "1          None  \n",
       "2        Renata  \n",
       "3       Kinesio  \n",
       "4          None  "
      ]
     },
     "execution_count": 97,
     "metadata": {},
     "output_type": "execute_result"
    }
   ],
   "source": [
    "# 10 primeiras observações do dataframe\n",
    "products_df.head()"
   ]
  },
  {
   "cell_type": "code",
   "execution_count": 98,
   "id": "73412256",
   "metadata": {},
   "outputs": [
    {
     "data": {
      "text/html": [
       "<div>\n",
       "<style scoped>\n",
       "    .dataframe tbody tr th:only-of-type {\n",
       "        vertical-align: middle;\n",
       "    }\n",
       "\n",
       "    .dataframe tbody tr th {\n",
       "        vertical-align: top;\n",
       "    }\n",
       "\n",
       "    .dataframe thead th {\n",
       "        text-align: right;\n",
       "    }\n",
       "</style>\n",
       "<table border=\"1\" class=\"dataframe\">\n",
       "  <thead>\n",
       "    <tr style=\"text-align: right;\">\n",
       "      <th></th>\n",
       "      <th>reviewerID</th>\n",
       "      <th>asin</th>\n",
       "      <th>reviewText</th>\n",
       "      <th>rating</th>\n",
       "    </tr>\n",
       "  </thead>\n",
       "  <tbody>\n",
       "    <tr>\n",
       "      <th>0</th>\n",
       "      <td>AVEZNYIN8PTCY</td>\n",
       "      <td>0736789928</td>\n",
       "      <td>This was the pen I used in grade school to lea...</td>\n",
       "      <td>4</td>\n",
       "    </tr>\n",
       "    <tr>\n",
       "      <th>1</th>\n",
       "      <td>A15C9PBP100HLB</td>\n",
       "      <td>0767196813</td>\n",
       "      <td>At our monthly BUNCO games we give prizes for ...</td>\n",
       "      <td>5</td>\n",
       "    </tr>\n",
       "    <tr>\n",
       "      <th>2</th>\n",
       "      <td>A349LYELBIFDVK</td>\n",
       "      <td>1423915380</td>\n",
       "      <td>Can't get my fossil to work with it. So took i...</td>\n",
       "      <td>4</td>\n",
       "    </tr>\n",
       "    <tr>\n",
       "      <th>3</th>\n",
       "      <td>AS33ZA0EODGZ8</td>\n",
       "      <td>1424333083</td>\n",
       "      <td>I have attended several courses taught by the ...</td>\n",
       "      <td>2</td>\n",
       "    </tr>\n",
       "    <tr>\n",
       "      <th>4</th>\n",
       "      <td>A1975EX0SEQM6O</td>\n",
       "      <td>1424333083</td>\n",
       "      <td>This has already come in handy for taping my s...</td>\n",
       "      <td>5</td>\n",
       "    </tr>\n",
       "  </tbody>\n",
       "</table>\n",
       "</div>"
      ],
      "text/plain": [
       "       reviewerID        asin  \\\n",
       "0   AVEZNYIN8PTCY  0736789928   \n",
       "1  A15C9PBP100HLB  0767196813   \n",
       "2  A349LYELBIFDVK  1423915380   \n",
       "3   AS33ZA0EODGZ8  1424333083   \n",
       "4  A1975EX0SEQM6O  1424333083   \n",
       "\n",
       "                                          reviewText  rating  \n",
       "0  This was the pen I used in grade school to lea...       4  \n",
       "1  At our monthly BUNCO games we give prizes for ...       5  \n",
       "2  Can't get my fossil to work with it. So took i...       4  \n",
       "3  I have attended several courses taught by the ...       2  \n",
       "4  This has already come in handy for taping my s...       5  "
      ]
     },
     "execution_count": 98,
     "metadata": {},
     "output_type": "execute_result"
    }
   ],
   "source": [
    "# 10 primeiras observações do dataframe\n",
    "reviews_df.head()"
   ]
  },
  {
   "cell_type": "code",
   "execution_count": 99,
   "id": "1ad1157d",
   "metadata": {},
   "outputs": [
    {
     "data": {
      "text/html": [
       "<div>\n",
       "<style scoped>\n",
       "    .dataframe tbody tr th:only-of-type {\n",
       "        vertical-align: middle;\n",
       "    }\n",
       "\n",
       "    .dataframe tbody tr th {\n",
       "        vertical-align: top;\n",
       "    }\n",
       "\n",
       "    .dataframe thead th {\n",
       "        text-align: right;\n",
       "    }\n",
       "</style>\n",
       "<table border=\"1\" class=\"dataframe\">\n",
       "  <thead>\n",
       "    <tr style=\"text-align: right;\">\n",
       "      <th></th>\n",
       "      <th>reviewerID</th>\n",
       "      <th>asin</th>\n",
       "      <th>reviewText</th>\n",
       "      <th>rating</th>\n",
       "      <th>title</th>\n",
       "      <th>price</th>\n",
       "      <th>brand</th>\n",
       "    </tr>\n",
       "  </thead>\n",
       "  <tbody>\n",
       "    <tr>\n",
       "      <th>0</th>\n",
       "      <td>AVEZNYIN8PTCY</td>\n",
       "      <td>0736789928</td>\n",
       "      <td>This was the pen I used in grade school to lea...</td>\n",
       "      <td>4</td>\n",
       "      <td>Zaner-Bloser Classic Handwriting Pen Single Un...</td>\n",
       "      <td>3.49</td>\n",
       "      <td>Zaner-Bloser</td>\n",
       "    </tr>\n",
       "    <tr>\n",
       "      <th>1</th>\n",
       "      <td>A15C9PBP100HLB</td>\n",
       "      <td>0767196813</td>\n",
       "      <td>At our monthly BUNCO games we give prizes for ...</td>\n",
       "      <td>5</td>\n",
       "      <td>Graphique - Bunco Purse Notes, 3 x 4&amp;quot;, Mu...</td>\n",
       "      <td>3.95</td>\n",
       "      <td>None</td>\n",
       "    </tr>\n",
       "    <tr>\n",
       "      <th>2</th>\n",
       "      <td>A349LYELBIFDVK</td>\n",
       "      <td>1423915380</td>\n",
       "      <td>Can't get my fossil to work with it. So took i...</td>\n",
       "      <td>4</td>\n",
       "      <td>Renata Battery 370 Sr920W Silver 1.55V Swiss Made</td>\n",
       "      <td>2.85</td>\n",
       "      <td>Renata</td>\n",
       "    </tr>\n",
       "    <tr>\n",
       "      <th>3</th>\n",
       "      <td>AS33ZA0EODGZ8</td>\n",
       "      <td>1424333083</td>\n",
       "      <td>I have attended several courses taught by the ...</td>\n",
       "      <td>2</td>\n",
       "      <td>Kinesiotaping in Pediatrics: Fundamentals and ...</td>\n",
       "      <td>48.90</td>\n",
       "      <td>Kinesio</td>\n",
       "    </tr>\n",
       "    <tr>\n",
       "      <th>4</th>\n",
       "      <td>A1975EX0SEQM6O</td>\n",
       "      <td>1424333083</td>\n",
       "      <td>This has already come in handy for taping my s...</td>\n",
       "      <td>5</td>\n",
       "      <td>Kinesiotaping in Pediatrics: Fundamentals and ...</td>\n",
       "      <td>48.90</td>\n",
       "      <td>Kinesio</td>\n",
       "    </tr>\n",
       "  </tbody>\n",
       "</table>\n",
       "</div>"
      ],
      "text/plain": [
       "       reviewerID        asin  \\\n",
       "0   AVEZNYIN8PTCY  0736789928   \n",
       "1  A15C9PBP100HLB  0767196813   \n",
       "2  A349LYELBIFDVK  1423915380   \n",
       "3   AS33ZA0EODGZ8  1424333083   \n",
       "4  A1975EX0SEQM6O  1424333083   \n",
       "\n",
       "                                          reviewText  rating  \\\n",
       "0  This was the pen I used in grade school to lea...       4   \n",
       "1  At our monthly BUNCO games we give prizes for ...       5   \n",
       "2  Can't get my fossil to work with it. So took i...       4   \n",
       "3  I have attended several courses taught by the ...       2   \n",
       "4  This has already come in handy for taping my s...       5   \n",
       "\n",
       "                                               title  price         brand  \n",
       "0  Zaner-Bloser Classic Handwriting Pen Single Un...   3.49  Zaner-Bloser  \n",
       "1  Graphique - Bunco Purse Notes, 3 x 4&quot;, Mu...   3.95          None  \n",
       "2  Renata Battery 370 Sr920W Silver 1.55V Swiss Made   2.85        Renata  \n",
       "3  Kinesiotaping in Pediatrics: Fundamentals and ...  48.90       Kinesio  \n",
       "4  Kinesiotaping in Pediatrics: Fundamentals and ...  48.90       Kinesio  "
      ]
     },
     "execution_count": 99,
     "metadata": {},
     "output_type": "execute_result"
    }
   ],
   "source": [
    "# Combinando os dataframes\n",
    "products_reviews = pd.merge(reviews_df, products_df, on='asin', how='left')\n",
    "\n",
    "# 10 primeiras observações do novo dataframe\n",
    "products_reviews.head()"
   ]
  },
  {
   "cell_type": "markdown",
   "id": "f46f323f",
   "metadata": {},
   "source": [
    "---\n",
    "## Cinco produtos com maior quantidade de reviews"
   ]
  },
  {
   "cell_type": "code",
   "execution_count": 100,
   "id": "b7074a12",
   "metadata": {},
   "outputs": [
    {
     "data": {
      "text/plain": [
       "['B00HK61L3C', 'B00B5H5BGA', 'B00FMJKRB6', 'B00I5H5Z1O', 'B0095PZHPE']"
      ]
     },
     "execution_count": 100,
     "metadata": {},
     "output_type": "execute_result"
    }
   ],
   "source": [
    "prod_rev = products_reviews.asin.value_counts().head(5).index.tolist()\n",
    "prod_rev"
   ]
  },
  {
   "cell_type": "code",
   "execution_count": 101,
   "id": "3b361bc0",
   "metadata": {},
   "outputs": [
    {
     "data": {
      "text/html": [
       "<div>\n",
       "<style scoped>\n",
       "    .dataframe tbody tr th:only-of-type {\n",
       "        vertical-align: middle;\n",
       "    }\n",
       "\n",
       "    .dataframe tbody tr th {\n",
       "        vertical-align: top;\n",
       "    }\n",
       "\n",
       "    .dataframe thead th {\n",
       "        text-align: right;\n",
       "    }\n",
       "</style>\n",
       "<table border=\"1\" class=\"dataframe\">\n",
       "  <thead>\n",
       "    <tr style=\"text-align: right;\">\n",
       "      <th></th>\n",
       "      <th>asin</th>\n",
       "      <th>title</th>\n",
       "      <th>price</th>\n",
       "      <th>brand</th>\n",
       "    </tr>\n",
       "  </thead>\n",
       "  <tbody>\n",
       "    <tr>\n",
       "      <th>32706</th>\n",
       "      <td>B0095PZHPE</td>\n",
       "      <td>Fitbit One Wireless Activity Plus Sleep Tracke...</td>\n",
       "      <td>93.57</td>\n",
       "      <td>Fitbit</td>\n",
       "    </tr>\n",
       "    <tr>\n",
       "      <th>35469</th>\n",
       "      <td>B00B5H5BGA</td>\n",
       "      <td>NatureWise Garcinia Cambogia Extract Natural A...</td>\n",
       "      <td>35.99</td>\n",
       "      <td>NatureWise</td>\n",
       "    </tr>\n",
       "    <tr>\n",
       "      <th>41756</th>\n",
       "      <td>B00FMJKRB6</td>\n",
       "      <td>First Aid Shot Therapy Pain Relief, Berry Flav...</td>\n",
       "      <td>29.99</td>\n",
       "      <td>None</td>\n",
       "    </tr>\n",
       "    <tr>\n",
       "      <th>44207</th>\n",
       "      <td>B00HK61L3C</td>\n",
       "      <td>W700 Thermogenic Hyper-Metabolizer by Ubervita...</td>\n",
       "      <td>29.95</td>\n",
       "      <td>Ubervita</td>\n",
       "    </tr>\n",
       "    <tr>\n",
       "      <th>45012</th>\n",
       "      <td>B00I5H5Z1O</td>\n",
       "      <td>Gillette Venus Snap with Embrace Women's Razor...</td>\n",
       "      <td>9.47</td>\n",
       "      <td>None</td>\n",
       "    </tr>\n",
       "  </tbody>\n",
       "</table>\n",
       "</div>"
      ],
      "text/plain": [
       "             asin                                              title  price  \\\n",
       "32706  B0095PZHPE  Fitbit One Wireless Activity Plus Sleep Tracke...  93.57   \n",
       "35469  B00B5H5BGA  NatureWise Garcinia Cambogia Extract Natural A...  35.99   \n",
       "41756  B00FMJKRB6  First Aid Shot Therapy Pain Relief, Berry Flav...  29.99   \n",
       "44207  B00HK61L3C  W700 Thermogenic Hyper-Metabolizer by Ubervita...  29.95   \n",
       "45012  B00I5H5Z1O  Gillette Venus Snap with Embrace Women's Razor...   9.47   \n",
       "\n",
       "            brand  \n",
       "32706      Fitbit  \n",
       "35469  NatureWise  \n",
       "41756        None  \n",
       "44207    Ubervita  \n",
       "45012        None  "
      ]
     },
     "execution_count": 101,
     "metadata": {},
     "output_type": "execute_result"
    }
   ],
   "source": [
    "products_df.loc[products_df.asin.isin(prod_rev)]"
   ]
  },
  {
   "cell_type": "markdown",
   "id": "64b491de",
   "metadata": {},
   "source": [
    "---\n",
    "## Cinco produtos com maior rating médio"
   ]
  },
  {
   "cell_type": "code",
   "execution_count": 102,
   "id": "3d306102",
   "metadata": {},
   "outputs": [
    {
     "data": {
      "text/plain": [
       "['B004XC5CD6', 'B005MGDRRA', 'B005MKP9OK', 'B005MKA4U4', 'B005MK9GYO']"
      ]
     },
     "execution_count": 102,
     "metadata": {},
     "output_type": "execute_result"
    }
   ],
   "source": [
    "prod_rating = products_reviews.groupby('asin')['rating'].mean().sort_values(ascending=False).head(5).index.tolist()\n",
    "prod_rating"
   ]
  },
  {
   "cell_type": "code",
   "execution_count": 103,
   "id": "05fa03b9",
   "metadata": {},
   "outputs": [
    {
     "data": {
      "text/html": [
       "<div>\n",
       "<style scoped>\n",
       "    .dataframe tbody tr th:only-of-type {\n",
       "        vertical-align: middle;\n",
       "    }\n",
       "\n",
       "    .dataframe tbody tr th {\n",
       "        vertical-align: top;\n",
       "    }\n",
       "\n",
       "    .dataframe thead th {\n",
       "        text-align: right;\n",
       "    }\n",
       "</style>\n",
       "<table border=\"1\" class=\"dataframe\">\n",
       "  <thead>\n",
       "    <tr style=\"text-align: right;\">\n",
       "      <th></th>\n",
       "      <th>asin</th>\n",
       "      <th>title</th>\n",
       "      <th>price</th>\n",
       "      <th>brand</th>\n",
       "    </tr>\n",
       "  </thead>\n",
       "  <tbody>\n",
       "    <tr>\n",
       "      <th>23937</th>\n",
       "      <td>B004XC5CD6</td>\n",
       "      <td>Deodorant Stick, Long Lasting Apricot 2.25 oz ...</td>\n",
       "      <td>14.24</td>\n",
       "      <td>Tom&amp;#39;s of Maine</td>\n",
       "    </tr>\n",
       "    <tr>\n",
       "      <th>26179</th>\n",
       "      <td>B005MGDRRA</td>\n",
       "      <td>Boiron Optique 1 for Eye Irritations, 20 Doses...</td>\n",
       "      <td>NaN</td>\n",
       "      <td>None</td>\n",
       "    </tr>\n",
       "    <tr>\n",
       "      <th>26197</th>\n",
       "      <td>B005MK9GYO</td>\n",
       "      <td>Four Piece Mach 3 Shave Set with Pure Badger B...</td>\n",
       "      <td>100.95</td>\n",
       "      <td>Bey-Berk</td>\n",
       "    </tr>\n",
       "    <tr>\n",
       "      <th>26198</th>\n",
       "      <td>B005MKA4U4</td>\n",
       "      <td>Melaleuca Diamond Brite - 25 loads</td>\n",
       "      <td>NaN</td>\n",
       "      <td>None</td>\n",
       "    </tr>\n",
       "    <tr>\n",
       "      <th>26200</th>\n",
       "      <td>B005MKP9OK</td>\n",
       "      <td>Optimox Corporation Iodoral 12.5 mg - 90 Tablets</td>\n",
       "      <td>49.99</td>\n",
       "      <td>None</td>\n",
       "    </tr>\n",
       "  </tbody>\n",
       "</table>\n",
       "</div>"
      ],
      "text/plain": [
       "             asin                                              title   price  \\\n",
       "23937  B004XC5CD6  Deodorant Stick, Long Lasting Apricot 2.25 oz ...   14.24   \n",
       "26179  B005MGDRRA  Boiron Optique 1 for Eye Irritations, 20 Doses...     NaN   \n",
       "26197  B005MK9GYO  Four Piece Mach 3 Shave Set with Pure Badger B...  100.95   \n",
       "26198  B005MKA4U4                 Melaleuca Diamond Brite - 25 loads     NaN   \n",
       "26200  B005MKP9OK   Optimox Corporation Iodoral 12.5 mg - 90 Tablets   49.99   \n",
       "\n",
       "                    brand  \n",
       "23937  Tom&#39;s of Maine  \n",
       "26179                None  \n",
       "26197            Bey-Berk  \n",
       "26198                None  \n",
       "26200                None  "
      ]
     },
     "execution_count": 103,
     "metadata": {},
     "output_type": "execute_result"
    }
   ],
   "source": [
    "products_df.loc[products_df.asin.isin(prod_rating)]"
   ]
  },
  {
   "cell_type": "markdown",
   "id": "0c3e3f80",
   "metadata": {},
   "source": [
    "---\n",
    "## Percentual de reviews positivos para os cinco produtos com maior quantidade de reviews\n",
    "\n",
    "Assumindo que qualquer review com rating maior que 3 é positivo (3.5, 4, 4.5, 5.0)."
   ]
  },
  {
   "cell_type": "code",
   "execution_count": 104,
   "id": "ecbf6cf9",
   "metadata": {},
   "outputs": [
    {
     "name": "stdout",
     "output_type": "stream",
     "text": [
      "item: B00HK61L3C - 10.74% reviews negativos e 89.26% reviews positivos.\n",
      "item: B00B5H5BGA - 22.89% reviews negativos e 77.11% reviews positivos.\n",
      "item: B00FMJKRB6 - 14.54% reviews negativos e 85.46% reviews positivos.\n",
      "item: B00I5H5Z1O - 5.96% reviews negativos e 94.04% reviews positivos.\n",
      "item: B0095PZHPE - 14.47% reviews negativos e 85.53% reviews positivos.\n"
     ]
    }
   ],
   "source": [
    "resultado = calc_pos_neg(prod_rev, reviews_df)\n",
    "impressao_relatorio(resultado)"
   ]
  },
  {
   "cell_type": "markdown",
   "id": "6e79368a",
   "metadata": {},
   "source": [
    "---\n",
    "## Percentual de reviews positivos para os cinco produtos com maior rating médio"
   ]
  },
  {
   "cell_type": "code",
   "execution_count": 105,
   "id": "6ec5a989",
   "metadata": {},
   "outputs": [
    {
     "name": "stdout",
     "output_type": "stream",
     "text": [
      "item: B004XC5CD6 - 0.00% reviews negativos e 100.00% reviews positivos.\n",
      "item: B005MGDRRA - 0.00% reviews negativos e 100.00% reviews positivos.\n",
      "item: B005MKP9OK - 0.00% reviews negativos e 100.00% reviews positivos.\n",
      "item: B005MKA4U4 - 0.00% reviews negativos e 100.00% reviews positivos.\n",
      "item: B005MK9GYO - 0.00% reviews negativos e 100.00% reviews positivos.\n"
     ]
    }
   ],
   "source": [
    "resultado = calc_pos_neg(prod_rating, reviews_df)\n",
    "impressao_relatorio(resultado)"
   ]
  },
  {
   "cell_type": "markdown",
   "id": "eabfa8c2",
   "metadata": {},
   "source": [
    "---\n",
    "## Qual seria o percentual de reviews positivos de todos os produtos, se eu adicionasse 1 review positivo e 1 review negativo"
   ]
  },
  {
   "cell_type": "code",
   "execution_count": 106,
   "id": "d3aa0ef8",
   "metadata": {},
   "outputs": [],
   "source": [
    "# Cria coluna com a classificação do rating (Positivo ou Negativo)\n",
    "products_reviews.loc[products_reviews['rating'] <= 3, 'rating_type'] = 'N'\n",
    "products_reviews.loc[products_reviews['rating'] > 3, 'rating_type'] = 'P'"
   ]
  },
  {
   "cell_type": "code",
   "execution_count": 107,
   "id": "f1c1bfcd",
   "metadata": {},
   "outputs": [],
   "source": [
    "# ou\n",
    "# products_reviews['rating_type'] = products_reviews['rating'].apply(lambda x: 'P' if x > 3 else 'N')\n"
   ]
  },
  {
   "cell_type": "code",
   "execution_count": 108,
   "id": "73830669",
   "metadata": {},
   "outputs": [],
   "source": [
    "# Cria duas colunas com o total de reviews positivos e negativos\n",
    "products_rating = products_reviews.groupby(['brand', 'asin'], as_index=False).apply(lambda x: pd.Series({'rating_pos': x[x['rating_type'] == 'P']['rating_type'].count(),\n",
    "                                                                                                         'rating_neg': x[x['rating_type'] == 'N']['rating_type'].count()}))"
   ]
  },
  {
   "cell_type": "code",
   "execution_count": 109,
   "id": "764ba607",
   "metadata": {},
   "outputs": [],
   "source": [
    "# Calcula os Percentuais\n",
    "products_rating['rating_pos_perc'] = products_rating['rating_pos'] / (products_rating['rating_pos'] + products_rating['rating_neg']) *100\n",
    "products_rating['rating_neg_perc'] = products_rating['rating_neg'] / (products_rating['rating_pos'] + products_rating['rating_neg']) *100\n",
    "\n",
    "# Cria cópia e soma 1 review positivo e outro negativo a todos os produtos\n",
    "products_rating_com_soma = products_rating.copy()\n",
    "products_rating_com_soma['rating_pos'] = products_rating_com_soma['rating_pos'] + 1\n",
    "products_rating_com_soma['rating_neg'] = products_rating_com_soma['rating_neg'] + 1\n",
    "\n",
    "# Recalcula os Percentuais\n",
    "products_rating_com_soma['rating_pos_perc'] = products_rating_com_soma['rating_pos'] / (products_rating_com_soma['rating_pos'] + products_rating_com_soma['rating_neg']) *100\n",
    "products_rating_com_soma['rating_neg_perc'] = products_rating_com_soma['rating_neg'] / (products_rating_com_soma['rating_pos'] + products_rating_com_soma['rating_neg']) *100"
   ]
  },
  {
   "cell_type": "code",
   "execution_count": 111,
   "id": "605e6c0c",
   "metadata": {},
   "outputs": [
    {
     "data": {
      "text/html": [
       "<div>\n",
       "<style scoped>\n",
       "    .dataframe tbody tr th:only-of-type {\n",
       "        vertical-align: middle;\n",
       "    }\n",
       "\n",
       "    .dataframe tbody tr th {\n",
       "        vertical-align: top;\n",
       "    }\n",
       "\n",
       "    .dataframe thead th {\n",
       "        text-align: right;\n",
       "    }\n",
       "</style>\n",
       "<table border=\"1\" class=\"dataframe\">\n",
       "  <thead>\n",
       "    <tr style=\"text-align: right;\">\n",
       "      <th></th>\n",
       "      <th>asin</th>\n",
       "      <th>brand</th>\n",
       "      <th>rating_pos_perc</th>\n",
       "    </tr>\n",
       "  </thead>\n",
       "  <tbody>\n",
       "    <tr>\n",
       "      <th>18919</th>\n",
       "      <td>B0057ZQB2O</td>\n",
       "      <td>Neosporin</td>\n",
       "      <td>98.540146</td>\n",
       "    </tr>\n",
       "    <tr>\n",
       "      <th>22820</th>\n",
       "      <td>B00KC0TH9S</td>\n",
       "      <td>Pure</td>\n",
       "      <td>98.019802</td>\n",
       "    </tr>\n",
       "    <tr>\n",
       "      <th>9406</th>\n",
       "      <td>B00D6SRLSW</td>\n",
       "      <td>Epica</td>\n",
       "      <td>97.752809</td>\n",
       "    </tr>\n",
       "    <tr>\n",
       "      <th>21138</th>\n",
       "      <td>B00837ZOI0</td>\n",
       "      <td>PRORASO</td>\n",
       "      <td>97.297297</td>\n",
       "    </tr>\n",
       "    <tr>\n",
       "      <th>28892</th>\n",
       "      <td>B00HK5RFBK</td>\n",
       "      <td>Ubervita</td>\n",
       "      <td>97.175141</td>\n",
       "    </tr>\n",
       "    <tr>\n",
       "      <th>...</th>\n",
       "      <td>...</td>\n",
       "      <td>...</td>\n",
       "      <td>...</td>\n",
       "    </tr>\n",
       "    <tr>\n",
       "      <th>17401</th>\n",
       "      <td>B00CDQY8N4</td>\n",
       "      <td>My Snoring Solution</td>\n",
       "      <td>9.677419</td>\n",
       "    </tr>\n",
       "    <tr>\n",
       "      <th>7235</th>\n",
       "      <td>B00JF74J38</td>\n",
       "      <td>Distributed by Shave &amp;#39;N Save</td>\n",
       "      <td>9.090909</td>\n",
       "    </tr>\n",
       "    <tr>\n",
       "      <th>1988</th>\n",
       "      <td>B00H8X924W</td>\n",
       "      <td>As Seen On TV</td>\n",
       "      <td>9.090909</td>\n",
       "    </tr>\n",
       "    <tr>\n",
       "      <th>6147</th>\n",
       "      <td>B00IF7A5EQ</td>\n",
       "      <td>Cortizone</td>\n",
       "      <td>9.090909</td>\n",
       "    </tr>\n",
       "    <tr>\n",
       "      <th>30285</th>\n",
       "      <td>B00I2MH2V8</td>\n",
       "      <td>Wonder Wax</td>\n",
       "      <td>7.142857</td>\n",
       "    </tr>\n",
       "  </tbody>\n",
       "</table>\n",
       "<p>31392 rows × 3 columns</p>\n",
       "</div>"
      ],
      "text/plain": [
       "             asin                             brand  rating_pos_perc\n",
       "18919  B0057ZQB2O                         Neosporin        98.540146\n",
       "22820  B00KC0TH9S                              Pure        98.019802\n",
       "9406   B00D6SRLSW                             Epica        97.752809\n",
       "21138  B00837ZOI0                           PRORASO        97.297297\n",
       "28892  B00HK5RFBK                          Ubervita        97.175141\n",
       "...           ...                               ...              ...\n",
       "17401  B00CDQY8N4               My Snoring Solution         9.677419\n",
       "7235   B00JF74J38  Distributed by Shave &#39;N Save         9.090909\n",
       "1988   B00H8X924W                     As Seen On TV         9.090909\n",
       "6147   B00IF7A5EQ                         Cortizone         9.090909\n",
       "30285  B00I2MH2V8                        Wonder Wax         7.142857\n",
       "\n",
       "[31392 rows x 3 columns]"
      ]
     },
     "execution_count": 111,
     "metadata": {},
     "output_type": "execute_result"
    }
   ],
   "source": [
    "# Produtos ordenados pelo rating positivo\n",
    "products_rating_com_soma[['asin', 'brand', 'rating_pos_perc']].sort_values(by='rating_pos_perc', ascending=False)"
   ]
  },
  {
   "cell_type": "markdown",
   "id": "d56c343c",
   "metadata": {},
   "source": [
    "---\n",
    "## Preço médio de todos os produtos"
   ]
  },
  {
   "cell_type": "code",
   "execution_count": 112,
   "id": "1ad14448",
   "metadata": {},
   "outputs": [
    {
     "data": {
      "text/plain": [
       "26.262131177320338"
      ]
     },
     "execution_count": 112,
     "metadata": {},
     "output_type": "execute_result"
    }
   ],
   "source": [
    "products_df['price'].mean()"
   ]
  },
  {
   "cell_type": "markdown",
   "id": "adb16fed",
   "metadata": {},
   "source": [
    "---\n",
    "## Preço médio de produtos da Philips, da 3M e da Duracell"
   ]
  },
  {
   "cell_type": "code",
   "execution_count": 113,
   "id": "7414401b",
   "metadata": {},
   "outputs": [
    {
     "data": {
      "text/plain": [
       "brand\n",
       "3M          13.843805\n",
       "Duracell    14.395696\n",
       "Philips     55.638896\n",
       "Name: price, dtype: float64"
      ]
     },
     "execution_count": 113,
     "metadata": {},
     "output_type": "execute_result"
    }
   ],
   "source": [
    "prod_lst  = products_df.loc[(products_df.brand.isin(['Philips','3M','Duracell']))]\n",
    "prod_lst.groupby('brand')['price'].mean()"
   ]
  },
  {
   "cell_type": "code",
   "execution_count": 114,
   "id": "145d7878",
   "metadata": {},
   "outputs": [
    {
     "data": {
      "text/plain": [
       "33.1570422535211"
      ]
     },
     "execution_count": 114,
     "metadata": {},
     "output_type": "execute_result"
    }
   ],
   "source": [
    "prod_lst.price.mean()"
   ]
  },
  {
   "cell_type": "markdown",
   "id": "4f883993",
   "metadata": {},
   "source": [
    "---\n",
    "## Percentual de reviews positivos para cada produto da Philips, da 3M e da Duracell"
   ]
  },
  {
   "cell_type": "code",
   "execution_count": 115,
   "id": "fb9b47ee",
   "metadata": {},
   "outputs": [
    {
     "data": {
      "text/html": [
       "<div>\n",
       "<style scoped>\n",
       "    .dataframe tbody tr th:only-of-type {\n",
       "        vertical-align: middle;\n",
       "    }\n",
       "\n",
       "    .dataframe tbody tr th {\n",
       "        vertical-align: top;\n",
       "    }\n",
       "\n",
       "    .dataframe thead th {\n",
       "        text-align: right;\n",
       "    }\n",
       "</style>\n",
       "<table border=\"1\" class=\"dataframe\">\n",
       "  <thead>\n",
       "    <tr style=\"text-align: right;\">\n",
       "      <th></th>\n",
       "      <th>brand</th>\n",
       "      <th>asin</th>\n",
       "      <th>rating_pos_perc</th>\n",
       "    </tr>\n",
       "  </thead>\n",
       "  <tbody>\n",
       "    <tr>\n",
       "      <th>420</th>\n",
       "      <td>3M</td>\n",
       "      <td>B00005NAVS</td>\n",
       "      <td>0.000000</td>\n",
       "    </tr>\n",
       "    <tr>\n",
       "      <th>421</th>\n",
       "      <td>3M</td>\n",
       "      <td>B00006IA8O</td>\n",
       "      <td>33.333333</td>\n",
       "    </tr>\n",
       "    <tr>\n",
       "      <th>422</th>\n",
       "      <td>3M</td>\n",
       "      <td>B00006IA8Q</td>\n",
       "      <td>100.000000</td>\n",
       "    </tr>\n",
       "    <tr>\n",
       "      <th>423</th>\n",
       "      <td>3M</td>\n",
       "      <td>B00006IA93</td>\n",
       "      <td>100.000000</td>\n",
       "    </tr>\n",
       "    <tr>\n",
       "      <th>424</th>\n",
       "      <td>3M</td>\n",
       "      <td>B00006IBMC</td>\n",
       "      <td>100.000000</td>\n",
       "    </tr>\n",
       "    <tr>\n",
       "      <th>...</th>\n",
       "      <td>...</td>\n",
       "      <td>...</td>\n",
       "      <td>...</td>\n",
       "    </tr>\n",
       "    <tr>\n",
       "      <th>21801</th>\n",
       "      <td>Philips</td>\n",
       "      <td>B00HB2ARDU</td>\n",
       "      <td>80.000000</td>\n",
       "    </tr>\n",
       "    <tr>\n",
       "      <th>21802</th>\n",
       "      <td>Philips</td>\n",
       "      <td>B00HB2ARHQ</td>\n",
       "      <td>62.500000</td>\n",
       "    </tr>\n",
       "    <tr>\n",
       "      <th>21803</th>\n",
       "      <td>Philips</td>\n",
       "      <td>B00I471LQI</td>\n",
       "      <td>100.000000</td>\n",
       "    </tr>\n",
       "    <tr>\n",
       "      <th>21804</th>\n",
       "      <td>Philips</td>\n",
       "      <td>B00I471M9E</td>\n",
       "      <td>50.000000</td>\n",
       "    </tr>\n",
       "    <tr>\n",
       "      <th>21805</th>\n",
       "      <td>Philips</td>\n",
       "      <td>B00IXVWOZC</td>\n",
       "      <td>100.000000</td>\n",
       "    </tr>\n",
       "  </tbody>\n",
       "</table>\n",
       "<p>356 rows × 3 columns</p>\n",
       "</div>"
      ],
      "text/plain": [
       "         brand        asin  rating_pos_perc\n",
       "420         3M  B00005NAVS         0.000000\n",
       "421         3M  B00006IA8O        33.333333\n",
       "422         3M  B00006IA8Q       100.000000\n",
       "423         3M  B00006IA93       100.000000\n",
       "424         3M  B00006IBMC       100.000000\n",
       "...        ...         ...              ...\n",
       "21801  Philips  B00HB2ARDU        80.000000\n",
       "21802  Philips  B00HB2ARHQ        62.500000\n",
       "21803  Philips  B00I471LQI       100.000000\n",
       "21804  Philips  B00I471M9E        50.000000\n",
       "21805  Philips  B00IXVWOZC       100.000000\n",
       "\n",
       "[356 rows x 3 columns]"
      ]
     },
     "execution_count": 115,
     "metadata": {},
     "output_type": "execute_result"
    }
   ],
   "source": [
    "prod_rev = ['Philips','3M','Duracell']\n",
    "products_rating[products_rating['brand'].isin(prod_rev)][['brand', 'asin', 'rating_pos_perc']]"
   ]
  },
  {
   "cell_type": "markdown",
   "id": "64dde6f0",
   "metadata": {},
   "source": [
    "---\n",
    "## Percentual de positivos médio para cada uma dessas marcas"
   ]
  },
  {
   "cell_type": "code",
   "execution_count": 116,
   "id": "34cc593f",
   "metadata": {},
   "outputs": [],
   "source": [
    "media_positivos_marca_df = products_rating[products_rating['brand'].isin(['Philips','3M','Duracell'])][['brand', 'asin', 'rating_pos_perc']]"
   ]
  },
  {
   "cell_type": "code",
   "execution_count": 117,
   "id": "719b9075",
   "metadata": {},
   "outputs": [
    {
     "data": {
      "text/html": [
       "<div>\n",
       "<style scoped>\n",
       "    .dataframe tbody tr th:only-of-type {\n",
       "        vertical-align: middle;\n",
       "    }\n",
       "\n",
       "    .dataframe tbody tr th {\n",
       "        vertical-align: top;\n",
       "    }\n",
       "\n",
       "    .dataframe thead th {\n",
       "        text-align: right;\n",
       "    }\n",
       "</style>\n",
       "<table border=\"1\" class=\"dataframe\">\n",
       "  <thead>\n",
       "    <tr style=\"text-align: right;\">\n",
       "      <th></th>\n",
       "      <th>rating_pos_perc</th>\n",
       "    </tr>\n",
       "    <tr>\n",
       "      <th>brand</th>\n",
       "      <th></th>\n",
       "    </tr>\n",
       "  </thead>\n",
       "  <tbody>\n",
       "    <tr>\n",
       "      <th>Duracell</th>\n",
       "      <td>87.804998</td>\n",
       "    </tr>\n",
       "    <tr>\n",
       "      <th>3M</th>\n",
       "      <td>85.626655</td>\n",
       "    </tr>\n",
       "    <tr>\n",
       "      <th>Philips</th>\n",
       "      <td>79.817878</td>\n",
       "    </tr>\n",
       "  </tbody>\n",
       "</table>\n",
       "</div>"
      ],
      "text/plain": [
       "          rating_pos_perc\n",
       "brand                    \n",
       "Duracell        87.804998\n",
       "3M              85.626655\n",
       "Philips         79.817878"
      ]
     },
     "execution_count": 117,
     "metadata": {},
     "output_type": "execute_result"
    }
   ],
   "source": [
    "media_positivos_marca_df.groupby('brand').agg({'rating_pos_perc':np.mean}).sort_values('rating_pos_perc', ascending=False)"
   ]
  },
  {
   "cell_type": "markdown",
   "id": "d5d04189",
   "metadata": {},
   "source": [
    "---"
   ]
  }
 ],
 "metadata": {
  "interpreter": {
   "hash": "00286405df7992d2188655937613ee0f42a975b6dfbb9153b22c04976f1afcd2"
  },
  "kernelspec": {
   "display_name": "Python 3.8.13 ('ds_boti')",
   "language": "python",
   "name": "python3"
  },
  "language_info": {
   "codemirror_mode": {
    "name": "ipython",
    "version": 3
   },
   "file_extension": ".py",
   "mimetype": "text/x-python",
   "name": "python",
   "nbconvert_exporter": "python",
   "pygments_lexer": "ipython3",
   "version": "3.8.13"
  }
 },
 "nbformat": 4,
 "nbformat_minor": 5
}
